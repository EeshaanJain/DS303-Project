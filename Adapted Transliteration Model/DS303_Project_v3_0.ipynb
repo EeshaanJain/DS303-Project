{
  "nbformat": 4,
  "nbformat_minor": 0,
  "metadata": {
    "colab": {
      "name": "DS303-Project-v2.0.ipynb",
      "provenance": [],
      "collapsed_sections": []
    },
    "kernelspec": {
      "name": "python3",
      "display_name": "Python 3"
    },
    "language_info": {
      "name": "python"
    }
  },
  "cells": [
    {
      "cell_type": "code",
      "metadata": {
        "colab": {
          "base_uri": "https://localhost:8080/"
        },
        "id": "iCTMDAMbtQZs",
        "outputId": "67bc82b7-2960-4801-8c0c-80800a4692e4"
      },
      "source": [
        "from google.colab import drive\n",
        "drive.mount('/content/drive')"
      ],
      "execution_count": 1,
      "outputs": [
        {
          "output_type": "stream",
          "text": [
            "Mounted at /content/drive\n"
          ],
          "name": "stdout"
        }
      ]
    },
    {
      "cell_type": "code",
      "metadata": {
        "id": "0rKz5NSjQ06Y"
      },
      "source": [
        "!pip install easyocr"
      ],
      "execution_count": null,
      "outputs": []
    },
    {
      "cell_type": "code",
      "metadata": {
        "colab": {
          "base_uri": "https://localhost:8080/"
        },
        "id": "h_9Uep7KgKP7",
        "outputId": "4e46fb7a-79e1-4a89-ffb2-2af948a4b119"
      },
      "source": [
        "!pip install python-Levenshtein"
      ],
      "execution_count": 21,
      "outputs": [
        {
          "output_type": "stream",
          "text": [
            "Requirement already satisfied: python-Levenshtein in /usr/local/lib/python3.7/dist-packages (0.12.2)\n",
            "Requirement already satisfied: setuptools in /usr/local/lib/python3.7/dist-packages (from python-Levenshtein) (56.1.0)\n"
          ],
          "name": "stdout"
        }
      ]
    },
    {
      "cell_type": "code",
      "metadata": {
        "id": "NPG7DqRouuOZ",
        "colab": {
          "resources": {
            "http://localhost:8080/nbextensions/google.colab/files.js": {
              "data": "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",
              "ok": true,
              "headers": [
                [
                  "content-type",
                  "application/javascript"
                ]
              ],
              "status": 200,
              "status_text": ""
            }
          },
          "base_uri": "https://localhost:8080/",
          "height": 106
        },
        "outputId": "ec71d3a1-a4d4-4326-e87d-850606fcb7df"
      },
      "source": [
        "from google.colab import files\n",
        "\n",
        "uploaded = files.upload()"
      ],
      "execution_count": 3,
      "outputs": [
        {
          "output_type": "display_data",
          "data": {
            "text/html": [
              "\n",
              "     <input type=\"file\" id=\"files-50b49a0f-5d82-4ca5-96d6-3ac8bd56fd59\" name=\"files[]\" multiple disabled\n",
              "        style=\"border:none\" />\n",
              "     <output id=\"result-50b49a0f-5d82-4ca5-96d6-3ac8bd56fd59\">\n",
              "      Upload widget is only available when the cell has been executed in the\n",
              "      current browser session. Please rerun this cell to enable.\n",
              "      </output>\n",
              "      <script src=\"/nbextensions/google.colab/files.js\"></script> "
            ],
            "text/plain": [
              "<IPython.core.display.HTML object>"
            ]
          },
          "metadata": {
            "tags": []
          }
        },
        {
          "output_type": "stream",
          "text": [
            "Saving Data_preprocessing.py to Data_preprocessing.py\n",
            "Saving transliteration.txt to transliteration.txt\n"
          ],
          "name": "stdout"
        }
      ]
    },
    {
      "cell_type": "code",
      "metadata": {
        "id": "3KH5J7hAh_y1"
      },
      "source": [
        "import Levenshtein\n",
        "import pandas as pd\n",
        "import numpy as np\n",
        "import pickle\n",
        "import tensorflow as tf"
      ],
      "execution_count": 4,
      "outputs": []
    },
    {
      "cell_type": "code",
      "metadata": {
        "id": "VocPTAhhQ6UP"
      },
      "source": [
        "import easyocr\n",
        "reader = easyocr.Reader(['hi']) # need to run only once to load model into memory"
      ],
      "execution_count": null,
      "outputs": []
    },
    {
      "cell_type": "code",
      "metadata": {
        "id": "9UKKWHjuQyR-"
      },
      "source": [
        "def OCR(file_name, dir_path = \"/content/drive/MyDrive/\"):\n",
        "  img_file = dir_path + file_name\n",
        "  return reader.readtext(img_file, detail = 0)"
      ],
      "execution_count": null,
      "outputs": []
    },
    {
      "cell_type": "code",
      "metadata": {
        "id": "TqLu0730y573"
      },
      "source": [
        "def saveVariables(variables): #where 'variables' is a list of variables\n",
        "    with open(\"./drive/MyDrive/DS_Proj_Var.txt\", 'wb+') as file:\n",
        "        pickle.dump(variables, file)\n",
        "\n",
        "def retrieveVariables(filename):\n",
        "    variables = []\n",
        "    with open(str(filename), 'rb') as file:\n",
        "        variables = pickle.load(file)\n",
        "    return variables"
      ],
      "execution_count": 5,
      "outputs": []
    },
    {
      "cell_type": "code",
      "metadata": {
        "colab": {
          "base_uri": "https://localhost:8080/"
        },
        "id": "36Yj24OLDMLV",
        "outputId": "b2317be1-3837-4824-da98-3dda15faae80"
      },
      "source": [
        "#Reading dataset\n",
        "dataset = pd.read_csv(\"transliteration.txt\",delimiter = \"\\t\",header=None,encoding='utf-8',na_filter = False)\n",
        "\n",
        "#Splitting English words in X and Hindi words in y\n",
        "X = dataset.iloc[:,0]\n",
        "y = dataset.iloc[:,-1]\n",
        "\n",
        "print(y)"
      ],
      "execution_count": 6,
      "outputs": [
        {
          "output_type": "stream",
          "text": [
            "0          खुशबू\n",
            "1          खुशबू\n",
            "2          खुशबू\n",
            "3          खुशबू\n",
            "4           तेरा\n",
            "          ...   \n",
            "30818      जाँदी\n",
            "30819       एरदे\n",
            "30820       लेवा\n",
            "30821     चावाइं\n",
            "30822    जत्तिया\n",
            "Name: 1, Length: 30823, dtype: object\n"
          ],
          "name": "stdout"
        }
      ]
    },
    {
      "cell_type": "code",
      "metadata": {
        "id": "AqsGLLz5FErk"
      },
      "source": [
        "#importing the preprocessed data \n",
        "#The preprocessing is done in a file named Data_preprocessing\n",
        "import Data_preprocessing\n",
        "\n",
        "#source_int_text is the English words' processed vector. (Word is Converted to integer vector)\n",
        "#target_int_text is the Hindi words' processed vector.\n",
        "#source_vocab_to_int and  source_int_to_vocab are the English dictionaries\n",
        "#target_vocab_to_int and  target_int_to_vocab are the Hindi dictionaries\n",
        "\n",
        "target_int_text, source_int_text, target_vocab_to_int, source_vocab_to_int,target_int_to_vocab,source_int_to_vocab = Data_preprocessing.preprocess(X,y)"
      ],
      "execution_count": 7,
      "outputs": []
    },
    {
      "cell_type": "code",
      "metadata": {
        "colab": {
          "base_uri": "https://localhost:8080/"
        },
        "id": "iG8Ezar_kcDM",
        "outputId": "579f3ff5-0937-4405-a8f7-673afdcd9705"
      },
      "source": [
        "print(X)"
      ],
      "execution_count": 8,
      "outputs": [
        {
          "output_type": "stream",
          "text": [
            "0        khushboo\n",
            "1        khushbuu\n",
            "2         khushbu\n",
            "3         khusbhu\n",
            "4            tera\n",
            "           ...   \n",
            "30818      jaandi\n",
            "30819       erade\n",
            "30820        lewa\n",
            "30821    chaawain\n",
            "30822     jattiya\n",
            "Name: 0, Length: 30823, dtype: object\n"
          ],
          "name": "stdout"
        }
      ]
    },
    {
      "cell_type": "code",
      "metadata": {
        "id": "l5yfn5tNFb_P"
      },
      "source": [
        "def max_length(tensor):\n",
        "  return max(len(t) for t in tensor)"
      ],
      "execution_count": 9,
      "outputs": []
    },
    {
      "cell_type": "code",
      "metadata": {
        "id": "Upj98370E67g"
      },
      "source": [
        "# We set input vector size to the size of longest sentence (sentence with maximum length) in out dataset.\n",
        "max_length_src, max_length_tar = max_length(source_int_text), max_length(target_int_text)\n",
        "    \n",
        "# We need to add padding other sentences before using them. We will pad the input and output tensor to max-length\n",
        "input_tensor = tf.keras.preprocessing.sequence.pad_sequences(source_int_text, maxlen=max_length_src, padding='post')\n",
        "  \n",
        "target_tensor = tf.keras.preprocessing.sequence.pad_sequences(target_int_text, maxlen=max_length_tar, padding='post')"
      ],
      "execution_count": 10,
      "outputs": []
    },
    {
      "cell_type": "code",
      "metadata": {
        "colab": {
          "base_uri": "https://localhost:8080/"
        },
        "id": "DNHbm9xvHTOX",
        "outputId": "06aed5b9-106e-4cb0-a0b5-637debf72884"
      },
      "source": [
        "from sklearn.model_selection import train_test_split\n",
        "\n",
        "# Creating training and validation sets using an 80-20 split\n",
        "input_tensor_train, input_tensor_val, target_tensor_train, target_tensor_val = train_test_split(input_tensor, target_tensor, test_size=0.05)\n",
        "\n",
        "len(input_tensor_train), len(target_tensor_train), len(input_tensor_val), len(target_tensor_val)"
      ],
      "execution_count": 12,
      "outputs": [
        {
          "output_type": "execute_result",
          "data": {
            "text/plain": [
              "(29281, 29281, 1542, 1542)"
            ]
          },
          "metadata": {
            "tags": []
          },
          "execution_count": 12
        }
      ]
    },
    {
      "cell_type": "code",
      "metadata": {
        "id": "2PZD3nPR_Ndi"
      },
      "source": [
        "BUFFER_SIZE = len(source_int_text)\n",
        "BATCH_SIZE = 32\n",
        "N_BATCH = BUFFER_SIZE//BATCH_SIZE\n",
        "embedding_dim = 256\n",
        "units = 1024\n",
        "vocab_inp_size = len(source_vocab_to_int)\n",
        "vocab_tar_size = len(target_vocab_to_int)\n",
        "\n",
        "dataset = tf.data.Dataset.from_tensor_slices((input_tensor_train, target_tensor_train)).shuffle(BUFFER_SIZE)\n",
        "dataset = dataset.batch(BATCH_SIZE, drop_remainder=True)"
      ],
      "execution_count": 13,
      "outputs": []
    },
    {
      "cell_type": "code",
      "metadata": {
        "id": "R3ZoJg02k5TJ"
      },
      "source": [
        "def gru(units):\n",
        "  return tf.keras.layers.GRU(units, return_sequences=True, return_state=True, recurrent_activation='sigmoid', recurrent_initializer='glorot_uniform')\n",
        "\n",
        "# Encoder Unit\n",
        "class Encoder(tf.keras.Model):\n",
        "  def __init__(self, vocab_size, embedding_dim, enc_units, batch_sz):\n",
        "    super(Encoder, self).__init__()\n",
        "    self.batch_sz = batch_sz\n",
        "    self.enc_units = enc_units\n",
        "    self.embedding = tf.keras.layers.Embedding(vocab_size, embedding_dim)\n",
        "    self.gru = gru(self.enc_units)\n",
        "\n",
        "  def call(self, x, hidden):\n",
        "    x = self.embedding(x)\n",
        "    output, state = self.gru(x, initial_state = hidden)        \n",
        "    return output, state\n",
        "\n",
        "  def initialize_hidden_state(self):\n",
        "    return tf.zeros((self.batch_sz, self.enc_units))\n",
        "\n",
        "# Decoder Unit\n",
        "class Decoder(tf.keras.Model):\n",
        "  def __init__(self, vocab_size, embedding_dim, dec_units, batch_sz):\n",
        "    super(Decoder, self).__init__()\n",
        "    self.batch_sz = batch_sz\n",
        "    self.dec_units = dec_units\n",
        "    self.embedding = tf.keras.layers.Embedding(vocab_size, embedding_dim)\n",
        "    self.gru = gru(self.dec_units)\n",
        "    self.fc = tf.keras.layers.Dense(vocab_size)\n",
        "\n",
        "    # used for attention\n",
        "    self.W1 = tf.keras.layers.Dense(self.dec_units)\n",
        "    self.W2 = tf.keras.layers.Dense(self.dec_units)\n",
        "    self.V = tf.keras.layers.Dense(1)\n",
        "        \n",
        "  def call(self, x, hidden, enc_output):\n",
        "    #  enc_output shape == (batch_size, max_length, hidden_size)\n",
        "        \n",
        "    # hidden shape == (batch_size, hidden size)\n",
        "    # hidden_with_time_axis shape == (batch_size, 1, hidden size)\n",
        "    # we are doing this to perform addition to calculate the score\n",
        "    hidden_with_time_axis = tf.expand_dims(hidden, 1)\n",
        "\n",
        "    # score shape == (batch_size, max_length, 1)\n",
        "    # we get 1 at the last axis because we are applying tanh(FC(EO) + FC(H)) to self.V\n",
        "    score = self.V(tf.nn.tanh(self.W1(enc_output) + self.W2(hidden_with_time_axis)))\n",
        "\n",
        "    # attention_weights shape == (batch_size, max_length, 1)\n",
        "    attention_weights = tf.nn.softmax(score, axis=1)\n",
        "\n",
        "    # context_vector shape after sum == (batch_size, hidden_size)\n",
        "    context_vector = attention_weights * enc_output\n",
        "    context_vector = tf.reduce_sum(context_vector, axis=1)\n",
        "\n",
        "    # x shape after passing through embedding == (batch_size, 1, embedding_dim)\n",
        "    x = self.embedding(x)\n",
        "\n",
        "    # x shape after concatenation == (batch_size, 1, embedding_dim + hidden_size)\n",
        "    x = tf.concat([tf.expand_dims(context_vector, 1), x], axis=-1)\n",
        "\n",
        "    # passing the concatenated vector to the GRU\n",
        "    output, state = self.gru(x)\n",
        "\n",
        "    # output shape == (batch_size * 1, hidden_size)\n",
        "    output = tf.reshape(output, (-1, output.shape[2]))\n",
        "\n",
        "    # output shape == (batch_size * 1, vocab)\n",
        "    x = self.fc(output)\n",
        "\n",
        "    return x, state, attention_weights\n",
        "\n",
        "  def initialize_hidden_state(self):\n",
        "    return tf.zeros((self.batch_sz, self.dec_units))"
      ],
      "execution_count": 14,
      "outputs": []
    },
    {
      "cell_type": "code",
      "metadata": {
        "id": "0a5V4HED-Q04"
      },
      "source": [
        "encoder = Encoder(vocab_inp_size, embedding_dim, units, BATCH_SIZE)\n",
        "decoder = Decoder(vocab_tar_size, embedding_dim, units, BATCH_SIZE)"
      ],
      "execution_count": 15,
      "outputs": []
    },
    {
      "cell_type": "code",
      "metadata": {
        "id": "AABY7KROCjQg"
      },
      "source": [
        "optimizer = tf.keras.optimizers.Adam()\n",
        "\n",
        "def loss_function(real, pred):\n",
        "  mask = 1-np.equal(real, 0)\n",
        "  loss_ = tf.nn.sparse_softmax_cross_entropy_with_logits(labels=real, logits=pred) * mask\n",
        "  return tf.reduce_mean(loss_)"
      ],
      "execution_count": 16,
      "outputs": []
    },
    {
      "cell_type": "code",
      "metadata": {
        "id": "f7Qko7PdCoLz"
      },
      "source": [
        "import os\n",
        "\n",
        "# On loacl machine dir changed to 'training_checkpoints/' to fit the loaction\n",
        "checkpoint_dir = './drive/MyDrive/training_checkpoints'\n",
        "checkpoint_prefix = os.path.join(checkpoint_dir, \"ckpt\")\n",
        "checkpoint = tf.train.Checkpoint(optimizer=optimizer,\n",
        "                                 encoder=encoder,\n",
        "                                 decoder=decoder)"
      ],
      "execution_count": 17,
      "outputs": []
    },
    {
      "cell_type": "code",
      "metadata": {
        "id": "oF1G4jFcKJHh"
      },
      "source": [
        "def evaluate(word, encoder, decoder, max_length_src, max_length_tar):\n",
        "\n",
        "    _, inp, target_vocab_to_int, source_vocab_to_int,target_int_to_vocab,source_int_to_vocab = Data_preprocessing.preprocess(['dummy'],[word])\n",
        "    inputs = tf.keras.preprocessing.sequence.pad_sequences([inp[0]], maxlen=max_length_src, padding='post')\n",
        "    \n",
        "    inputs = tf.convert_to_tensor(inputs)\n",
        "\n",
        "    result = ''\n",
        "\n",
        "    hidden = [tf.zeros((1, units))]\n",
        "    enc_out, enc_hidden = encoder(inputs, hidden)\n",
        "\n",
        "    dec_hidden = enc_hidden\n",
        "    dec_input = tf.expand_dims([1], 0)\n",
        "\n",
        "    for t in range(max_length_tar):\n",
        "      predictions, dec_hidden, attention_weights = decoder(dec_input, dec_hidden, enc_out)\n",
        "\n",
        "      predicted_id = tf.argmax(predictions[0]).numpy()\n",
        "\n",
        "      if predicted_id == 1:\n",
        "          return result, inp\n",
        "      \n",
        "      result += target_int_to_vocab[predicted_id] + ''\n",
        "\n",
        "      # the predicted ID is fed back into the model\n",
        "      dec_input = tf.expand_dims([predicted_id], 0)\n",
        "\n",
        "    return result, inp"
      ],
      "execution_count": 18,
      "outputs": []
    },
    {
      "cell_type": "code",
      "metadata": {
        "colab": {
          "base_uri": "https://localhost:8080/"
        },
        "id": "0YdULCYQQxY3",
        "outputId": "d2100fff-0726-43a8-881e-70ca069b1496"
      },
      "source": [
        "print(y[0])\n",
        "print(X[0])"
      ],
      "execution_count": 19,
      "outputs": [
        {
          "output_type": "stream",
          "text": [
            "खुशबू\n",
            "khushboo\n"
          ],
          "name": "stdout"
        }
      ]
    },
    {
      "cell_type": "code",
      "metadata": {
        "colab": {
          "base_uri": "https://localhost:8080/"
        },
        "id": "7EEbxW_dC5Tc",
        "outputId": "ef145af1-dc47-4f07-d57e-764cb2759a7b"
      },
      "source": [
        "import time\n",
        "\n",
        "EPOCHS = 2\n",
        "hin_word = y[0]\n",
        "eng_word = X[0]\n",
        "print('Hindi Word To Be Translated: ', hin_word)\n",
        "\n",
        "losses = []\n",
        "results = []\n",
        "lev_ratio = []\n",
        "lev_jaro = []\n",
        "lev_dist = []\n",
        "\n",
        "for epoch in range(EPOCHS):\n",
        "  start = time.time()\n",
        "    \n",
        "  hidden = encoder.initialize_hidden_state()\n",
        "  total_loss = 0\n",
        "\n",
        "  for (batch, (inp, targ)) in enumerate(dataset):\n",
        "    loss = 0\n",
        "        \n",
        "    with tf.GradientTape() as tape:\n",
        "      enc_output, enc_hidden = encoder(inp, hidden)\n",
        "\n",
        "      dec_hidden = enc_hidden\n",
        "\n",
        "      dec_input = tf.expand_dims([1] * BATCH_SIZE, 1)       \n",
        "\n",
        "      # Teacher forcing - feeding the target as the next input\n",
        "      for t in range(1, targ.shape[1]):\n",
        "        # passing enc_output to the decoder\n",
        "        predictions, dec_hidden, _ = decoder(dec_input, dec_hidden, enc_output)\n",
        "\n",
        "        loss += loss_function(targ[:, t], predictions)\n",
        "\n",
        "        # using teacher forcing\n",
        "        dec_input = tf.expand_dims(targ[:, t], 1)\n",
        "\n",
        "    batch_loss = (loss / int(targ.shape[1]))\n",
        "\n",
        "    total_loss += batch_loss\n",
        "\n",
        "    variables = encoder.variables + decoder.variables\n",
        "\n",
        "    gradients = tape.gradient(loss, variables)\n",
        "\n",
        "    optimizer.apply_gradients(zip(gradients, variables))\n",
        "\n",
        "    encoder_model = encoder\n",
        "    decoder_model = decoder\n",
        "\n",
        "#   with open('encoder_model.json', 'w', encoding='utf8') as f:\n",
        "#        f.write(encoder_model.to_json())\n",
        "#    encoder_model.save_weights('encoder_model_weights.h5')\n",
        "#\n",
        "#    with open('decoder_model.json', 'w', encoding='utf8') as f:\n",
        "#        f.write(decoder_model.to_json())\n",
        "#    decoder_model.save_weights('decoder_model_weights.h5')\n",
        "\n",
        "    if batch % 100 == 0:\n",
        "        print('Epoch {} Batch {}: Loss {:.4f}'.format(epoch + 1,\n",
        "                                                     batch,\n",
        "                                                     batch_loss.numpy()))\n",
        "        \n",
        "        result, inp = evaluate(hin_word, encoder, decoder, max_length_src, max_length_tar)\n",
        "\n",
        "        losses.append(batch_loss.numpy())\n",
        "\n",
        "        results.append(result)\n",
        "\n",
        "        ratio = Levenshtein.ratio(eng_word, result)\n",
        "        lev_ratio.append(ratio)\n",
        "\n",
        "        jaro = Levenshtein.jaro_winkler(eng_word, result)\n",
        "        lev_jaro.append(jaro)\n",
        "\n",
        "        dist = Levenshtein.distance(eng_word, result)\n",
        "        lev_dist.append(dist)\n",
        "\n",
        "        var_to_save = [losses, results, lev_ratio, lev_jaro, lev_dist]\n",
        "        saveVariables(var_to_save)\n",
        "\n",
        "        checkpoint.save(file_prefix = checkpoint_prefix)\n",
        "\n",
        "        print('English Translation: {}'.format(result))\n",
        "        print('Similarity: {}'.format(ratio))\n",
        "        print('Jaro Winkler Similarity: {}'.format(jaro))\n",
        "        print('Absolute Levenshtein Distance: {}'.format(dist))\n",
        "        print('------------------------')"
      ],
      "execution_count": 20,
      "outputs": [
        {
          "output_type": "stream",
          "text": [
            "Hindi Word To Be Translated:  खुशबू\n",
            "Epoch 1 Batch 0: Loss 1.0070\n",
            "English Translation: aaaaaaaaaaaaaaaaaaaaaaa\n",
            "Similarity: 0.0\n",
            "Jaro Winkler Similarity: 0.0\n",
            "Absolute Levenshtein Distance: 23\n",
            "------------------------\n",
            "Epoch 1 Batch 100: Loss 0.7139\n",
            "English Translation: baaaaaaaaaaaaaaaaaaaaaa\n",
            "Similarity: 0.06451612903225806\n",
            "Jaro Winkler Similarity: 0.0\n",
            "Absolute Levenshtein Distance: 23\n",
            "------------------------\n",
            "Epoch 1 Batch 200: Loss 0.6148\n",
            "English Translation: khuuuuuuuuuuuuuuuuuuuuu\n",
            "Similarity: 0.1935483870967742\n",
            "Jaro Winkler Similarity: 0.651268115942029\n",
            "Absolute Levenshtein Distance: 20\n",
            "------------------------\n",
            "Epoch 1 Batch 300: Loss 0.3675\n",
            "English Translation: kushubo\n",
            "Similarity: 0.8\n",
            "Jaro Winkler Similarity: 0.8071428571428572\n",
            "Absolute Levenshtein Distance: 3\n",
            "------------------------\n",
            "Epoch 1 Batch 400: Loss 0.1321\n",
            "English Translation: khushuu\n",
            "Similarity: 0.6666666666666666\n",
            "Jaro Winkler Similarity: 0.8898809523809524\n",
            "Absolute Levenshtein Distance: 3\n",
            "------------------------\n",
            "Epoch 1 Batch 500: Loss 0.1212\n",
            "English Translation: khushbuu\n",
            "Similarity: 0.75\n",
            "Jaro Winkler Similarity: 0.9333333333333333\n",
            "Absolute Levenshtein Distance: 2\n",
            "------------------------\n",
            "Epoch 1 Batch 600: Loss 0.2103\n",
            "English Translation: khushubu\n",
            "Similarity: 0.75\n",
            "Jaro Winkler Similarity: 0.9166666666666667\n",
            "Absolute Levenshtein Distance: 3\n",
            "------------------------\n",
            "Epoch 1 Batch 700: Loss 0.1280\n",
            "English Translation: khushu\n",
            "Similarity: 0.7142857142857143\n",
            "Jaro Winkler Similarity: 0.9097222222222223\n",
            "Absolute Levenshtein Distance: 3\n",
            "------------------------\n",
            "Epoch 1 Batch 800: Loss 0.0984\n",
            "English Translation: khushbo\n",
            "Similarity: 0.9333333333333333\n",
            "Jaro Winkler Similarity: 0.9875\n",
            "Absolute Levenshtein Distance: 1\n",
            "------------------------\n",
            "Epoch 1 Batch 900: Loss 0.1456\n",
            "English Translation: khushubu\n",
            "Similarity: 0.75\n",
            "Jaro Winkler Similarity: 0.9166666666666667\n",
            "Absolute Levenshtein Distance: 3\n",
            "------------------------\n",
            "Epoch 2 Batch 0: Loss 0.1684\n",
            "English Translation: khushubu\n",
            "Similarity: 0.75\n",
            "Jaro Winkler Similarity: 0.9166666666666667\n",
            "Absolute Levenshtein Distance: 3\n",
            "------------------------\n",
            "Epoch 2 Batch 100: Loss 0.1003\n",
            "English Translation: khushbu\n",
            "Similarity: 0.8\n",
            "Jaro Winkler Similarity: 0.9476190476190476\n",
            "Absolute Levenshtein Distance: 2\n",
            "------------------------\n",
            "Epoch 2 Batch 200: Loss 0.1081\n",
            "English Translation: khushaboo\n",
            "Similarity: 0.9411764705882353\n",
            "Jaro Winkler Similarity: 0.9814814814814814\n",
            "Absolute Levenshtein Distance: 1\n",
            "------------------------\n",
            "Epoch 2 Batch 300: Loss 0.1171\n",
            "English Translation: khushabu\n",
            "Similarity: 0.75\n",
            "Jaro Winkler Similarity: 0.9166666666666667\n",
            "Absolute Levenshtein Distance: 3\n",
            "------------------------\n",
            "Epoch 2 Batch 400: Loss 0.0666\n",
            "English Translation: khushabu\n",
            "Similarity: 0.75\n",
            "Jaro Winkler Similarity: 0.9166666666666667\n",
            "Absolute Levenshtein Distance: 3\n",
            "------------------------\n",
            "Epoch 2 Batch 500: Loss 0.1014\n",
            "English Translation: khushabu\n",
            "Similarity: 0.75\n",
            "Jaro Winkler Similarity: 0.9166666666666667\n",
            "Absolute Levenshtein Distance: 3\n",
            "------------------------\n",
            "Epoch 2 Batch 600: Loss 0.0633\n",
            "English Translation: khushbhu\n",
            "Similarity: 0.75\n",
            "Jaro Winkler Similarity: 0.9333333333333333\n",
            "Absolute Levenshtein Distance: 2\n",
            "------------------------\n",
            "Epoch 2 Batch 700: Loss 0.0936\n",
            "English Translation: khushabu\n",
            "Similarity: 0.75\n",
            "Jaro Winkler Similarity: 0.9166666666666667\n",
            "Absolute Levenshtein Distance: 3\n",
            "------------------------\n",
            "Epoch 2 Batch 800: Loss 0.0993\n",
            "English Translation: khushabu\n",
            "Similarity: 0.75\n",
            "Jaro Winkler Similarity: 0.9166666666666667\n",
            "Absolute Levenshtein Distance: 3\n",
            "------------------------\n",
            "Epoch 2 Batch 900: Loss 0.0903\n",
            "English Translation: khushu\n",
            "Similarity: 0.7142857142857143\n",
            "Jaro Winkler Similarity: 0.9097222222222223\n",
            "Absolute Levenshtein Distance: 3\n",
            "------------------------\n"
          ],
          "name": "stdout"
        }
      ]
    },
    {
      "cell_type": "code",
      "metadata": {
        "colab": {
          "base_uri": "https://localhost:8080/"
        },
        "id": "gclOfbZTCJnG",
        "outputId": "200ec3ba-68c3-43a5-fbcf-c6ced4ed21c9"
      },
      "source": [
        "checkpoint.restore(tf.train.latest_checkpoint(checkpoint_dir))"
      ],
      "execution_count": 22,
      "outputs": [
        {
          "output_type": "execute_result",
          "data": {
            "text/plain": [
              "<tensorflow.python.training.tracking.util.CheckpointLoadStatus at 0x7f6b6185bc50>"
            ]
          },
          "metadata": {
            "tags": []
          },
          "execution_count": 22
        }
      ]
    },
    {
      "cell_type": "code",
      "metadata": {
        "colab": {
          "base_uri": "https://localhost:8080/"
        },
        "id": "Of6V-lw7CZhN",
        "outputId": "5936d771-ab51-4f6d-dfa8-c10968648366"
      },
      "source": [
        "hin_word = y[0]\n",
        "result, inp = evaluate(hin_word, encoder, decoder, max_length_src, max_length_tar)\n",
        "print(result)"
      ],
      "execution_count": 23,
      "outputs": [
        {
          "output_type": "stream",
          "text": [
            "khushu\n"
          ],
          "name": "stdout"
        }
      ]
    },
    {
      "cell_type": "code",
      "metadata": {
        "id": "LS1lHMy6zlpM"
      },
      "source": [
        "Variables = retrieveVariables(\"./drive/MyDrive/DS_Proj_Var.txt\")\n",
        "losses = Variables[0]\n",
        "results = Variables[1]\n",
        "lev_ratio = Variables[2]\n",
        "lev_jaro = Variables[3]\n",
        "lev_dist = Variables[4]"
      ],
      "execution_count": 24,
      "outputs": []
    },
    {
      "cell_type": "code",
      "metadata": {
        "id": "m4iVihYh70jN"
      },
      "source": [
        "ratio = 0\n",
        "jaro = 0\n",
        "dist = 0\n",
        "\n",
        "for i in range(len(y)):\n",
        "\n",
        "    hin_word = y[i]\n",
        "    eng_word = X[i]\n",
        "\n",
        "    result, inp = evaluate(hin_word, encoder, decoder, max_length_src, max_length_tar)\n",
        "\n",
        "    ratio += Levenshtein.ratio(eng_word, result)\n",
        "    jaro += Levenshtein.jaro_winkler(eng_word, result)\n",
        "    dist += Levenshtein.distance(eng_word, result)\n",
        "\n",
        "avg_ratio = ratio/len(y)\n",
        "avg_jaro = jaro/len(y)\n",
        "avg_dist = dist/len(y)"
      ],
      "execution_count": 26,
      "outputs": []
    },
    {
      "cell_type": "code",
      "metadata": {
        "colab": {
          "base_uri": "https://localhost:8080/"
        },
        "id": "viOPJixK-ucE",
        "outputId": "5806824a-be76-49f7-a8f7-47b6b65b3481"
      },
      "source": [
        "print('Final Ratio Parameter: {}'.format(avg_ratio))\n",
        "print('Final Jaro Parameter: {}'.format(avg_jaro))\n",
        "print('Final Distance Parameter: {}'.format(avg_dist))"
      ],
      "execution_count": 27,
      "outputs": [
        {
          "output_type": "stream",
          "text": [
            "Final Ratio Parameter: 0.9206224973021648\n",
            "Final Jaro Parameter: 0.9587824697783452\n",
            "Final Distance Parameter: 0.8092658080005191\n"
          ],
          "name": "stdout"
        }
      ]
    },
    {
      "cell_type": "code",
      "metadata": {
        "colab": {
          "base_uri": "https://localhost:8080/",
          "height": 504
        },
        "id": "w-fjK1K7Xu6w",
        "outputId": "960c680e-b8af-4e9b-9902-b8cebd907d96"
      },
      "source": [
        "import matplotlib.pyplot as plt\n",
        "import seaborn as sb\n",
        "\n",
        "x = [i for i in range(len(lev_ratio))]\n",
        "\n",
        "# Setting the figure size\n",
        "plt.figure(figsize=(15,7))\n",
        "\n",
        "sb.lineplot(x, lev_ratio)\n",
        "\n",
        "# Adjusting label size in the x-axis\n",
        "plt.tick_params(axis='x', which='major', labelsize=14)\n",
        "plt.xlabel('Batch-Step', fontsize = 14)\n",
        "\n",
        "# Adjusting label size in the x-axis\n",
        "plt.tick_params(axis='y', which='major', labelsize=14)\n",
        "plt.ylabel(\"Levenshtein Ratio\", fontsize = 14)\n",
        "plt.show()"
      ],
      "execution_count": 34,
      "outputs": [
        {
          "output_type": "stream",
          "text": [
            "/usr/local/lib/python3.7/dist-packages/seaborn/_decorators.py:43: FutureWarning: Pass the following variables as keyword args: x, y. From version 0.12, the only valid positional argument will be `data`, and passing other arguments without an explicit keyword will result in an error or misinterpretation.\n",
            "  FutureWarning\n"
          ],
          "name": "stderr"
        },
        {
          "output_type": "display_data",
          "data": {
            "image/png": "[encoded data removed]",
            "text/plain": [
              "<Figure size 1080x504 with 1 Axes>"
            ]
          },
          "metadata": {
            "tags": [],
            "needs_background": "light"
          }
        }
      ]
    },
    {
      "cell_type": "code",
      "metadata": {
        "colab": {
          "base_uri": "https://localhost:8080/",
          "height": 504
        },
        "id": "xW1-3TglfdAB",
        "outputId": "dc4405fb-64e3-4b46-b05a-32fb22a59866"
      },
      "source": [
        "# Setting the figure size\n",
        "plt.figure(figsize=(15,7))\n",
        "\n",
        "sb.lineplot(x, lev_jaro)\n",
        "\n",
        "# Adjusting label size in the x-axis\n",
        "plt.tick_params(axis='x', which='major', labelsize=14)\n",
        "plt.xlabel('Batch-Step', fontsize = 14)\n",
        "\n",
        "# Adjusting label size in the x-axis\n",
        "plt.tick_params(axis='y', which='major', labelsize=14)\n",
        "plt.ylabel(\"Levenshtein Jaro Similarity\", fontsize = 14)\n",
        "plt.show()"
      ],
      "execution_count": 35,
      "outputs": [
        {
          "output_type": "stream",
          "text": [
            "/usr/local/lib/python3.7/dist-packages/seaborn/_decorators.py:43: FutureWarning: Pass the following variables as keyword args: x, y. From version 0.12, the only valid positional argument will be `data`, and passing other arguments without an explicit keyword will result in an error or misinterpretation.\n",
            "  FutureWarning\n"
          ],
          "name": "stderr"
        },
        {
          "output_type": "display_data",
          "data": {
            "image/png": "[encoded data removed]",
            "text/plain": [
              "<Figure size 1080x504 with 1 Axes>"
            ]
          },
          "metadata": {
            "tags": [],
            "needs_background": "light"
          }
        }
      ]
    },
    {
      "cell_type": "code",
      "metadata": {
        "colab": {
          "base_uri": "https://localhost:8080/",
          "height": 504
        },
        "id": "ysDUgZVtYJes",
        "outputId": "e991b05c-b6b8-4a8f-9424-40901cdb2a71"
      },
      "source": [
        "# Setting the figure size\n",
        "plt.figure(figsize=(15,7))\n",
        "\n",
        "sb.lineplot(x, lev_dist)\n",
        "\n",
        "# Adjusting label size in the x-axis\n",
        "plt.tick_params(axis='x', which='major', labelsize=14)\n",
        "plt.xlabel('Batch-Step', fontsize = 14)\n",
        "\n",
        "# Adjusting label size in the x-axis\n",
        "plt.tick_params(axis='y', which='major', labelsize=14)\n",
        "plt.ylabel(\"Levenshtein Distance\", fontsize = 14)\n",
        "plt.show()"
      ],
      "execution_count": 36,
      "outputs": [
        {
          "output_type": "stream",
          "text": [
            "/usr/local/lib/python3.7/dist-packages/seaborn/_decorators.py:43: FutureWarning: Pass the following variables as keyword args: x, y. From version 0.12, the only valid positional argument will be `data`, and passing other arguments without an explicit keyword will result in an error or misinterpretation.\n",
            "  FutureWarning\n"
          ],
          "name": "stderr"
        },
        {
          "output_type": "display_data",
          "data": {
            "image/png": "[encoded data removed]",
            "text/plain": [
              "<Figure size 1080x504 with 1 Axes>"
            ]
          },
          "metadata": {
            "tags": [],
            "needs_background": "light"
          }
        }
      ]
    },
    {
      "cell_type": "code",
      "metadata": {
        "colab": {
          "base_uri": "https://localhost:8080/",
          "height": 504
        },
        "id": "0EgsTUBWfoBB",
        "outputId": "45aa4a2e-febb-4211-d9dd-8fed204760b0"
      },
      "source": [
        "# Setting the figure size\n",
        "plt.figure(figsize=(15,7))\n",
        "\n",
        "sb.lineplot(x, losses)\n",
        "\n",
        "# Adjusting label size in the x-axis\n",
        "plt.tick_params(axis='x', which='major', labelsize=14)\n",
        "plt.xlabel('Batch-Step', fontsize = 14)\n",
        "\n",
        "# Adjusting label size in the x-axis\n",
        "plt.tick_params(axis='y', which='major', labelsize=14)\n",
        "plt.ylabel(\"Loss Function\", fontsize = 14)\n",
        "plt.show()"
      ],
      "execution_count": 37,
      "outputs": [
        {
          "output_type": "stream",
          "text": [
            "/usr/local/lib/python3.7/dist-packages/seaborn/_decorators.py:43: FutureWarning: Pass the following variables as keyword args: x, y. From version 0.12, the only valid positional argument will be `data`, and passing other arguments without an explicit keyword will result in an error or misinterpretation.\n",
            "  FutureWarning\n"
          ],
          "name": "stderr"
        },
        {
          "output_type": "display_data",
          "data": {
            "image/png": "[encoded data removed]",
            "text/plain": [
              "<Figure size 1080x504 with 1 Axes>"
            ]
          },
          "metadata": {
            "tags": [],
            "needs_background": "light"
          }
        }
      ]
    },
    {
      "cell_type": "code",
      "metadata": {
        "id": "I7HOJqABfu4q"
      },
      "source": [
        ""
      ],
      "execution_count": null,
      "outputs": []
    }
  ]
}