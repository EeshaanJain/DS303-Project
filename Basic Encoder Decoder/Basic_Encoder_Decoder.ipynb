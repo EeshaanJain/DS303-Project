{
  "nbformat": 4,
  "nbformat_minor": 0,
  "metadata": {
    "colab": {
      "name": "Basic_Encoder_Decoder.ipynb",
      "provenance": [],
      "collapsed_sections": []
    },
    "kernelspec": {
      "name": "python3",
      "display_name": "Python 3"
    },
    "language_info": {
      "name": "python"
    },
    "accelerator": "GPU"
  },
  "cells": [
    {
      "cell_type": "code",
      "metadata": {
        "id": "lqOpiAD7YHay",
        "colab": {
          "base_uri": "https://localhost:8080/"
        },
        "outputId": "aa20ad66-3484-4c84-c042-80e4896074e8"
      },
      "source": [
        "% cd /content/drive/MyDrive/DS-Project/datasets"
      ],
      "execution_count": 1,
      "outputs": [
        {
          "output_type": "stream",
          "text": [
            "/content/drive/MyDrive/DS-Project/datasets\n"
          ],
          "name": "stdout"
        }
      ]
    },
    {
      "cell_type": "markdown",
      "metadata": {
        "id": "Ri7EVG1NbY-s"
      },
      "source": [
        "# Loading libraries"
      ]
    },
    {
      "cell_type": "code",
      "metadata": {
        "id": "GhO3NUGLa7tG"
      },
      "source": [
        "import torch\n",
        "import torch.nn as nn\n",
        "import torch.optim as optim\n",
        "from torch.autograd import Variable\n",
        "import torch.nn.functional as F\n",
        "from torch.utils.data import Dataset\n",
        "from sklearn.model_selection import train_test_split\n",
        "import pandas as pd\n",
        "import numpy as np\n",
        "import matplotlib.pyplot as plt\n",
        "import seaborn as sns\n",
        "import random\n",
        "import copy\n",
        "from IPython.display import clear_output"
      ],
      "execution_count": 2,
      "outputs": []
    },
    {
      "cell_type": "code",
      "metadata": {
        "colab": {
          "base_uri": "https://localhost:8080/"
        },
        "id": "MVjwtHJ4JerV",
        "outputId": "2f2a4a13-bfde-44d9-a31e-f5f4dcfda441"
      },
      "source": [
        "DEVICE = torch.device(\"cuda:0\" if torch.cuda.is_available() else \"cpu\")\n",
        "print(DEVICE)"
      ],
      "execution_count": 3,
      "outputs": [
        {
          "output_type": "stream",
          "text": [
            "cuda:0\n"
          ],
          "name": "stdout"
        }
      ]
    },
    {
      "cell_type": "markdown",
      "metadata": {
        "id": "vUACXdGUbcZM"
      },
      "source": [
        "# Preprocessing and Data Loading"
      ]
    },
    {
      "cell_type": "code",
      "metadata": {
        "id": "oUOFhwMRkMmR"
      },
      "source": [
        "SPECIAL_TOKENS = {\n",
        "    '<PAD>': 0,     # Padding token - to equalize size of expressions\n",
        "}\n",
        "\n",
        "\"\"\"\n",
        "To create lookup tables for vocabulary\n",
        "\"\"\"\n",
        "def lookup_table(vocabulary):\n",
        "    \"\"\"\n",
        "    vocabulary: String of all characters of a particular language\n",
        "    \"\"\"\n",
        "    vocabulary = set(list(vocabulary))\n",
        "    v2i = copy.copy(SPECIAL_TOKENS)\n",
        "    for i, vocab in enumerate(vocabulary, len(SPECIAL_TOKENS)):\n",
        "        v2i[vocab] = i\n",
        "\n",
        "    i2v = {i:v for v, i in v2i.items()}\n",
        "    return v2i, i2v\n",
        "\n",
        "ENG = 'abcdefghijklmnopqrstuvwxyz'\n",
        "HIN = ''.join(c for c in [chr(alpha) for alpha in range(2304, 2432)])\n",
        "\n",
        "hin_v2i, hin_i2v = lookup_table(HIN)\n",
        "eng_v2i, eng_i2v = lookup_table(ENG)"
      ],
      "execution_count": 4,
      "outputs": []
    },
    {
      "cell_type": "code",
      "metadata": {
        "colab": {
          "base_uri": "https://localhost:8080/"
        },
        "id": "TcnPICT0mhO8",
        "outputId": "97ca47c4-dd3a-4e63-c2fa-f44c7495e09b"
      },
      "source": [
        "print(eng_v2i)\n",
        "print(hin_v2i)"
      ],
      "execution_count": 5,
      "outputs": [
        {
          "output_type": "stream",
          "text": [
            "{'<PAD>': 0, 'w': 1, 'l': 2, 'n': 3, 'g': 4, 'a': 5, 'q': 6, 'x': 7, 'b': 8, 'c': 9, 'd': 10, 'o': 11, 'j': 12, 't': 13, 'v': 14, 'p': 15, 'k': 16, 's': 17, 'z': 18, 'f': 19, 'i': 20, 'u': 21, 'y': 22, 'h': 23, 'r': 24, 'm': 25, 'e': 26}\n",
            "{'<PAD>': 0, 'ण': 1, 'ओ': 2, 'द': 3, 'ग़': 4, 'ऄ': 5, 'ॖ': 6, 'ऊ': 7, '॰': 8, 'ॡ': 9, 'ॺ': 10, '़': 11, 'ॆ': 12, 'े': 13, 'ख': 14, '८': 15, 'क़': 16, 'ह': 17, 'त': 18, 'ॉ': 19, 'ळ': 20, 'औ': 21, 'ए': 22, 'ज': 23, 'ग': 24, '॔': 25, 'य': 26, 'ै': 27, '०': 28, 'ं': 29, 'ॷ': 30, 'ऽ': 31, 'ल': 32, 'ौ': 33, 'छ': 34, 'ि': 35, 'ॊ': 36, 'ॼ': 37, 'ऀ': 38, 'ॵ': 39, '।': 40, 'ॲ': 41, 'फ़': 42, 'ऴ': 43, 'ऻ': 44, 'ऑ': 45, '१': 46, 'थ': 47, 'ॹ': 48, 'ऩ': 49, 'ॎ': 50, '७': 51, 'ॕ': 52, 'ठ': 53, 'ॸ': 54, 'ॐ': 55, 'ऐ': 56, 'ऺ': 57, 'अ': 58, 'आ': 59, 'ु': 60, '॑': 61, 'ॏ': 62, 'ई': 63, 'प': 64, '॓': 65, '॥': 66, 'म': 67, 'ऒ': 68, 'ॳ': 69, 'ढ': 70, 'ॾ': 71, '६': 72, 'ॄ': 73, 'ॽ': 74, 'ऱ': 75, 'ी': 76, '४': 77, 'ञ': 78, 'ऋ': 79, 'ट': 80, 'ू': 81, 'ॿ': 82, 'ः': 83, 'घ': 84, 'ड': 85, 'ॠ': 86, 'ॅ': 87, 'ॣ': 88, 'ॱ': 89, '्': 90, 'ऌ': 91, 'ज़': 92, 'ँ': 93, 'ॶ': 94, 'फ': 95, 'भ': 96, 'ॗ': 97, 'झ': 98, 'ढ़': 99, 'ङ': 100, '३': 101, 'उ': 102, 'ा': 103, 'र': 104, '५': 105, 'क': 106, 'ऍ': 107, 'ो': 108, 'ऎ': 109, 'ृ': 110, '९': 111, '॒': 112, 'ॻ': 113, 'ख़': 114, 'ष': 115, 'ॴ': 116, 'न': 117, 'य़': 118, 'ड़': 119, 'व': 120, '२': 121, 'ॢ': 122, 'ध': 123, 'ब': 124, 'श': 125, 'च': 126, 'स': 127, 'इ': 128}\n"
          ],
          "name": "stdout"
        }
      ]
    },
    {
      "cell_type": "code",
      "metadata": {
        "colab": {
          "base_uri": "https://localhost:8080/"
        },
        "id": "3y1roUbhbT3k",
        "outputId": "36c6f723-3e57-4ee3-d9a7-74ac5eed4f78"
      },
      "source": [
        "# We don't need to clean the dataset as the dataset is already cleaned\n",
        "dataset = pd.read_csv('transliteration.txt', delimiter='\\t', encoding='utf-8', na_filter=False, header=None)\n",
        "print(dataset.shape)\n",
        "ENG_WORDS = dataset.iloc[:, 0].to_numpy()\n",
        "HIN_WORDS = dataset.iloc[:, 1].to_numpy()\n",
        "print(ENG_WORDS[342], HIN_WORDS[342])\n",
        "HIN_TRAIN, HIN_TEST, ENG_TRAIN, ENG_TEST = train_test_split(HIN_WORDS, ENG_WORDS, test_size=0.15)\n",
        "print(len(HIN_TRAIN), len(HIN_TEST))"
      ],
      "execution_count": 6,
      "outputs": [
        {
          "output_type": "stream",
          "text": [
            "(30823, 2)\n",
            "raha रह\n",
            "26199 4624\n"
          ],
          "name": "stdout"
        }
      ]
    },
    {
      "cell_type": "code",
      "metadata": {
        "id": "mldb4HyYbw0E"
      },
      "source": [
        "class DataLoader(Dataset):\n",
        "  def __init__(self, english, hindi):\n",
        "    self.eng_words = english\n",
        "    self.hin_words = hindi\n",
        "    self.shuffle_indices = list(range(len(self.hin_words)))\n",
        "    self.shuffle_start_idx = 0\n",
        "    random.shuffle(self.shuffle_indices)\n",
        "\n",
        "  def __len__(self):\n",
        "    return len(self.hin_words)\n",
        "\n",
        "  def __getitem__(self, idx):\n",
        "    return self.hin_words[idx], self.eng_words[idx]\n",
        "\n",
        "  def get_random_sample(self):\n",
        "    return self.__getitem__(np.random.randint(len(self.hin_words)))\n",
        "\n",
        "  def get_array_batch(self, BATCH_SIZE, arr):\n",
        "    end = self.shuffle_start_idx + BATCH_SIZE\n",
        "    batch = []\n",
        "    if end >= len(self.hin_words):\n",
        "      \n",
        "      batch = [arr[i] for i in self.shuffle_indices[0:end%len(self.hin_words)]]\n",
        "      end = len(self.hin_words)\n",
        "    return batch + [arr[i] for i in self.shuffle_indices[self.shuffle_start_idx : end]]\n",
        "\n",
        "  def get_batches(self, BATCH_SIZE):\n",
        "    hin_batch = self.get_array_batch(BATCH_SIZE, self.hin_words)\n",
        "    eng_batch = self.get_array_batch(BATCH_SIZE, self.eng_words)\n",
        "    self.shuffle_start_idx += BATCH_SIZE + 1\n",
        "\n",
        "    # Reshuffle\n",
        "    if self.shuffle_start_idx >= len(self.hin_words):\n",
        "      random.shuffle(self.shuffle_indices)\n",
        "      self.shuffle_start_idx = 0\n",
        "\n",
        "    return hin_batch, eng_batch\n"
      ],
      "execution_count": 7,
      "outputs": []
    },
    {
      "cell_type": "code",
      "metadata": {
        "id": "AOgADc7SednH"
      },
      "source": [
        "train_data = DataLoader(ENG_TRAIN, HIN_TRAIN)\n",
        "test_data = DataLoader(ENG_TEST, HIN_TEST)"
      ],
      "execution_count": 8,
      "outputs": []
    },
    {
      "cell_type": "code",
      "metadata": {
        "id": "VgKeQr1ojYlB"
      },
      "source": [
        "\"\"\"\n",
        "Word encoding\n",
        "\"\"\"\n",
        "\n",
        "def hindi_encoding(word, v2i, device='cpu'):\n",
        "  rep = torch.zeros(len(word)+1, 1, len(v2i)).to(device)\n",
        "  for i, char in enumerate(word):\n",
        "    pos = v2i[char]\n",
        "    rep[i][0][pos] = 1\n",
        "\n",
        "  pad_pos = v2i['<PAD>']\n",
        "  rep[i+1][0][pad_pos] = 1\n",
        "  return rep\n",
        "\n",
        "def eng_encoding(word, v2i, device='cpu'):\n",
        "  rep = torch.zeros([len(word)+1, 1], dtype=torch.long).to(device)\n",
        "  for i, char in enumerate(word):\n",
        "    pos = v2i[char]\n",
        "    rep[i][0] = pos\n",
        "  rep[i+1][0] = v2i['<PAD>']\n",
        "  return rep"
      ],
      "execution_count": 9,
      "outputs": []
    },
    {
      "cell_type": "code",
      "metadata": {
        "colab": {
          "base_uri": "https://localhost:8080/"
        },
        "id": "6FeB4lMMlSYd",
        "outputId": "dce75b3d-9407-4688-e23d-f144e6e1b7ee"
      },
      "source": [
        "hindi, eng = train_data.get_random_sample()\n",
        "print(eng, eng_encoding(eng, eng_v2i))\n",
        "print('===============================================================================')\n",
        "print(hindi, hindi_encoding(hindi, hin_v2i))"
      ],
      "execution_count": 10,
      "outputs": [
        {
          "output_type": "stream",
          "text": [
            "zindaa tensor([[18],\n",
            "        [20],\n",
            "        [ 3],\n",
            "        [10],\n",
            "        [ 5],\n",
            "        [ 5],\n",
            "        [ 0]])\n",
            "===============================================================================\n",
            "ज़िंदा tensor([[[0., 0., 0., 0., 0., 0., 0., 0., 0., 0., 0., 0., 0., 0., 0., 0., 0.,\n",
            "          0., 0., 0., 0., 0., 0., 0., 0., 0., 0., 0., 0., 0., 0., 0., 0., 0.,\n",
            "          0., 0., 0., 0., 0., 0., 0., 0., 0., 0., 0., 0., 0., 0., 0., 0., 0.,\n",
            "          0., 0., 0., 0., 0., 0., 0., 0., 0., 0., 0., 0., 0., 0., 0., 0., 0.,\n",
            "          0., 0., 0., 0., 0., 0., 0., 0., 0., 0., 0., 0., 0., 0., 0., 0., 0.,\n",
            "          0., 0., 0., 0., 0., 0., 0., 1., 0., 0., 0., 0., 0., 0., 0., 0., 0.,\n",
            "          0., 0., 0., 0., 0., 0., 0., 0., 0., 0., 0., 0., 0., 0., 0., 0., 0.,\n",
            "          0., 0., 0., 0., 0., 0., 0., 0., 0., 0.]],\n",
            "\n",
            "        [[0., 0., 0., 0., 0., 0., 0., 0., 0., 0., 0., 0., 0., 0., 0., 0., 0.,\n",
            "          0., 0., 0., 0., 0., 0., 0., 0., 0., 0., 0., 0., 0., 0., 0., 0., 0.,\n",
            "          0., 1., 0., 0., 0., 0., 0., 0., 0., 0., 0., 0., 0., 0., 0., 0., 0.,\n",
            "          0., 0., 0., 0., 0., 0., 0., 0., 0., 0., 0., 0., 0., 0., 0., 0., 0.,\n",
            "          0., 0., 0., 0., 0., 0., 0., 0., 0., 0., 0., 0., 0., 0., 0., 0., 0.,\n",
            "          0., 0., 0., 0., 0., 0., 0., 0., 0., 0., 0., 0., 0., 0., 0., 0., 0.,\n",
            "          0., 0., 0., 0., 0., 0., 0., 0., 0., 0., 0., 0., 0., 0., 0., 0., 0.,\n",
            "          0., 0., 0., 0., 0., 0., 0., 0., 0., 0.]],\n",
            "\n",
            "        [[0., 0., 0., 0., 0., 0., 0., 0., 0., 0., 0., 0., 0., 0., 0., 0., 0.,\n",
            "          0., 0., 0., 0., 0., 0., 0., 0., 0., 0., 0., 0., 1., 0., 0., 0., 0.,\n",
            "          0., 0., 0., 0., 0., 0., 0., 0., 0., 0., 0., 0., 0., 0., 0., 0., 0.,\n",
            "          0., 0., 0., 0., 0., 0., 0., 0., 0., 0., 0., 0., 0., 0., 0., 0., 0.,\n",
            "          0., 0., 0., 0., 0., 0., 0., 0., 0., 0., 0., 0., 0., 0., 0., 0., 0.,\n",
            "          0., 0., 0., 0., 0., 0., 0., 0., 0., 0., 0., 0., 0., 0., 0., 0., 0.,\n",
            "          0., 0., 0., 0., 0., 0., 0., 0., 0., 0., 0., 0., 0., 0., 0., 0., 0.,\n",
            "          0., 0., 0., 0., 0., 0., 0., 0., 0., 0.]],\n",
            "\n",
            "        [[0., 0., 0., 1., 0., 0., 0., 0., 0., 0., 0., 0., 0., 0., 0., 0., 0.,\n",
            "          0., 0., 0., 0., 0., 0., 0., 0., 0., 0., 0., 0., 0., 0., 0., 0., 0.,\n",
            "          0., 0., 0., 0., 0., 0., 0., 0., 0., 0., 0., 0., 0., 0., 0., 0., 0.,\n",
            "          0., 0., 0., 0., 0., 0., 0., 0., 0., 0., 0., 0., 0., 0., 0., 0., 0.,\n",
            "          0., 0., 0., 0., 0., 0., 0., 0., 0., 0., 0., 0., 0., 0., 0., 0., 0.,\n",
            "          0., 0., 0., 0., 0., 0., 0., 0., 0., 0., 0., 0., 0., 0., 0., 0., 0.,\n",
            "          0., 0., 0., 0., 0., 0., 0., 0., 0., 0., 0., 0., 0., 0., 0., 0., 0.,\n",
            "          0., 0., 0., 0., 0., 0., 0., 0., 0., 0.]],\n",
            "\n",
            "        [[0., 0., 0., 0., 0., 0., 0., 0., 0., 0., 0., 0., 0., 0., 0., 0., 0.,\n",
            "          0., 0., 0., 0., 0., 0., 0., 0., 0., 0., 0., 0., 0., 0., 0., 0., 0.,\n",
            "          0., 0., 0., 0., 0., 0., 0., 0., 0., 0., 0., 0., 0., 0., 0., 0., 0.,\n",
            "          0., 0., 0., 0., 0., 0., 0., 0., 0., 0., 0., 0., 0., 0., 0., 0., 0.,\n",
            "          0., 0., 0., 0., 0., 0., 0., 0., 0., 0., 0., 0., 0., 0., 0., 0., 0.,\n",
            "          0., 0., 0., 0., 0., 0., 0., 0., 0., 0., 0., 0., 0., 0., 0., 0., 0.,\n",
            "          0., 1., 0., 0., 0., 0., 0., 0., 0., 0., 0., 0., 0., 0., 0., 0., 0.,\n",
            "          0., 0., 0., 0., 0., 0., 0., 0., 0., 0.]],\n",
            "\n",
            "        [[1., 0., 0., 0., 0., 0., 0., 0., 0., 0., 0., 0., 0., 0., 0., 0., 0.,\n",
            "          0., 0., 0., 0., 0., 0., 0., 0., 0., 0., 0., 0., 0., 0., 0., 0., 0.,\n",
            "          0., 0., 0., 0., 0., 0., 0., 0., 0., 0., 0., 0., 0., 0., 0., 0., 0.,\n",
            "          0., 0., 0., 0., 0., 0., 0., 0., 0., 0., 0., 0., 0., 0., 0., 0., 0.,\n",
            "          0., 0., 0., 0., 0., 0., 0., 0., 0., 0., 0., 0., 0., 0., 0., 0., 0.,\n",
            "          0., 0., 0., 0., 0., 0., 0., 0., 0., 0., 0., 0., 0., 0., 0., 0., 0.,\n",
            "          0., 0., 0., 0., 0., 0., 0., 0., 0., 0., 0., 0., 0., 0., 0., 0., 0.,\n",
            "          0., 0., 0., 0., 0., 0., 0., 0., 0., 0.]]])\n"
          ],
          "name": "stdout"
        }
      ]
    },
    {
      "cell_type": "markdown",
      "metadata": {
        "id": "WA_cWx5PoJo6"
      },
      "source": [
        "# Model : Encoder-Decoder with Attention"
      ]
    },
    {
      "cell_type": "code",
      "metadata": {
        "id": "qv8F9rgnlW75"
      },
      "source": [
        "class Encoder_Decoder(nn.Module):\n",
        "  def __init__(self, input_size, hidden_size, output_size, verbose=False):\n",
        "    super(Encoder_Decoder, self).__init__()\n",
        "    self.hidden_size = hidden_size\n",
        "    self.output_size = output_size\n",
        "    self.encoder_rnn = nn.GRU(input_size, hidden_size)\n",
        "    self.decoder_rnn = nn.GRU(hidden_size*2, hidden_size)\n",
        "    self.hidden_to_output = nn.Linear(hidden_size, output_size)\n",
        "    self.softmax = nn.LogSoftmax(dim=2)\n",
        "    self.U = nn.Linear(self.hidden_size, self.hidden_size)\n",
        "    self.W = nn.Linear(self.hidden_size, self.hidden_size)\n",
        "    self.attention = nn.Linear(self.hidden_size, 1)\n",
        "    self.output_to_hidden = nn.Linear(self.output_size, self.hidden_size)\n",
        "    self.verbose = verbose\n",
        "\n",
        "\n",
        "  def forward(self, input, max_output_chars = 30, device='cpu', ground_truth = None):\n",
        "        \n",
        "        # encoder\n",
        "        encoder_outputs, hidden = self.encoder_rnn(input)\n",
        "        encoder_outputs = encoder_outputs.view(-1, self.hidden_size)\n",
        "        \n",
        "        if self.verbose:\n",
        "            print('Encoder output', encoder_outputs.shape)\n",
        "        \n",
        "        # decoder\n",
        "        decoder_state = hidden\n",
        "        decoder_input = torch.zeros(1, 1, self.output_size).to(device)\n",
        "        \n",
        "        outputs = []\n",
        "        U = self.U(encoder_outputs)\n",
        "        \n",
        "        if self.verbose:\n",
        "            print('Decoder state', decoder_state.shape)\n",
        "            print('Decoder intermediate input', decoder_input.shape)\n",
        "            print('U * Encoder output', U.shape)\n",
        "        \n",
        "        for i in range(max_output_chars):\n",
        "            \n",
        "            W = self.W(decoder_state.view(1, -1).repeat(encoder_outputs.shape[0], 1))\n",
        "            V = self.attention(torch.tanh(U + W))\n",
        "            attention_weights = F.softmax(V.view(1, -1), dim = 1) \n",
        "            \n",
        "            if self.verbose:\n",
        "                print('W * Decoder state', W.shape)\n",
        "                print('V', V.shape)\n",
        "                print('Attention', attention_weights.shape)\n",
        "            \n",
        "            attention_applied = torch.bmm(attention_weights.unsqueeze(0),\n",
        "                                 encoder_outputs.unsqueeze(0))\n",
        "            \n",
        "            embedding = self.output_to_hidden(decoder_input)\n",
        "            decoder_input = torch.cat((embedding[0], attention_applied[0]), 1).unsqueeze(0)\n",
        "            \n",
        "            if self.verbose:\n",
        "                print('Attention LC', attention_applied.shape)\n",
        "                print('Decoder input', decoder_input.shape)\n",
        "                \n",
        "            out, decoder_state = self.decoder_rnn(decoder_input, decoder_state)\n",
        "            if self.verbose:\n",
        "                print('Decoder intermediate output', out.shape)\n",
        "                \n",
        "            out = self.hidden_to_output(decoder_state)\n",
        "            out = self.softmax(out)\n",
        "            outputs.append(out.view(1, -1))\n",
        "            \n",
        "            if self.verbose:\n",
        "                print('Decoder output', out.shape)\n",
        "                self.verbose = False\n",
        "            \n",
        "            max_idx = torch.argmax(out, 2, keepdim=True)\n",
        "            if not ground_truth is None:\n",
        "                max_idx = ground_truth[i].reshape(1, 1, 1)\n",
        "            one_hot = torch.zeros(out.shape, device=device)\n",
        "            one_hot.scatter_(2, max_idx, 1) \n",
        "            \n",
        "            decoder_input = one_hot.detach()\n",
        "            \n",
        "        return outputs"
      ],
      "execution_count": 11,
      "outputs": []
    },
    {
      "cell_type": "code",
      "metadata": {
        "id": "H7QHa3FDqn5Z"
      },
      "source": [
        "enc_dec = Encoder_Decoder(len(hin_v2i), 256, len(eng_v2i), True)"
      ],
      "execution_count": 12,
      "outputs": []
    },
    {
      "cell_type": "code",
      "metadata": {
        "id": "Hm9xxiHYs_iN"
      },
      "source": [
        "# Let us try out the model without training first\n",
        "\n",
        "def get_output(model, word, max_output_chars=30, device='cpu'):\n",
        "  out = model.forward(hindi_encoding(word, hin_v2i), max_output_chars=max_output_chars, device=device)\n",
        "  return out"
      ],
      "execution_count": 25,
      "outputs": []
    },
    {
      "cell_type": "code",
      "metadata": {
        "colab": {
          "base_uri": "https://localhost:8080/"
        },
        "id": "9ln7VyVNudZe",
        "outputId": "4703159a-ffd6-489f-923a-a389eb7cfa37"
      },
      "source": [
        "print(hindi, eng)\n",
        "trial_output = get_output(enc_dec, hindi)\n",
        "print('Output Length:', len(trial_output))\n",
        "for i in range(len(trial_output)):\n",
        "  print(trial_output[i].shape, list(eng_v2i.keys())[list(eng_v2i.values()).index(torch.argmax(trial_output[i]))])"
      ],
      "execution_count": 14,
      "outputs": [
        {
          "output_type": "stream",
          "text": [
            "ज़िंदा zindaa\n",
            "Encoder output torch.Size([6, 256])\n",
            "Decoder state torch.Size([1, 1, 256])\n",
            "Decoder intermediate input torch.Size([1, 1, 27])\n",
            "U * Encoder output torch.Size([6, 256])\n",
            "W * Decoder state torch.Size([6, 256])\n",
            "V torch.Size([6, 1])\n",
            "Attention torch.Size([1, 6])\n",
            "Attention LC torch.Size([1, 1, 256])\n",
            "Decoder input torch.Size([1, 1, 512])\n",
            "Decoder intermediate output torch.Size([1, 1, 256])\n",
            "Decoder output torch.Size([1, 1, 27])\n",
            "Output Length: 30\n",
            "torch.Size([1, 27]) s\n",
            "torch.Size([1, 27]) i\n",
            "torch.Size([1, 27]) s\n",
            "torch.Size([1, 27]) s\n",
            "torch.Size([1, 27]) i\n",
            "torch.Size([1, 27]) s\n",
            "torch.Size([1, 27]) i\n",
            "torch.Size([1, 27]) s\n",
            "torch.Size([1, 27]) i\n",
            "torch.Size([1, 27]) s\n",
            "torch.Size([1, 27]) i\n",
            "torch.Size([1, 27]) s\n",
            "torch.Size([1, 27]) i\n",
            "torch.Size([1, 27]) s\n",
            "torch.Size([1, 27]) i\n",
            "torch.Size([1, 27]) s\n",
            "torch.Size([1, 27]) i\n",
            "torch.Size([1, 27]) s\n",
            "torch.Size([1, 27]) i\n",
            "torch.Size([1, 27]) s\n",
            "torch.Size([1, 27]) i\n",
            "torch.Size([1, 27]) s\n",
            "torch.Size([1, 27]) i\n",
            "torch.Size([1, 27]) s\n",
            "torch.Size([1, 27]) i\n",
            "torch.Size([1, 27]) s\n",
            "torch.Size([1, 27]) i\n",
            "torch.Size([1, 27]) s\n",
            "torch.Size([1, 27]) i\n",
            "torch.Size([1, 27]) s\n"
          ],
          "name": "stdout"
        }
      ]
    },
    {
      "cell_type": "markdown",
      "metadata": {
        "id": "BOd4kVwM7jP0"
      },
      "source": [
        "# Training"
      ]
    },
    {
      "cell_type": "code",
      "metadata": {
        "id": "efL9JpV-xPyK"
      },
      "source": [
        "def train(model, optimizer, criterion, BATCH_SIZE, device='cpu', force=False):\n",
        "  model.train().to(device)\n",
        "  optimizer.zero_grad()\n",
        "  hin_batch, eng_batch = train_data.get_batches(BATCH_SIZE)\n",
        "  total_loss = 0\n",
        "  for i in range(BATCH_SIZE):\n",
        "    input_ = hindi_encoding(hin_batch[i], hin_v2i, device)\n",
        "    eng_ = eng_encoding(eng_batch[i], eng_v2i, device)\n",
        "    outputs = model.forward(input_, eng_.shape[0], device, ground_truth=eng_ if force else None)\n",
        "    for i, output in enumerate(outputs):\n",
        "      loss = criterion(output, eng_[i]) / BATCH_SIZE\n",
        "      loss.backward(retain_graph=True)\n",
        "      total_loss += loss\n",
        "\n",
        "  optimizer.step()\n",
        "  return total_loss / BATCH_SIZE\n"
      ],
      "execution_count": 15,
      "outputs": []
    },
    {
      "cell_type": "code",
      "metadata": {
        "id": "nRHrOwMk9LS4"
      },
      "source": [
        "def setup(model, LEARNING_RATE=0.01, NUM_BATCHES=100, BATCH_SIZE=10, DISPLAY_STEP=5, device='cpu', e=256):\n",
        "   model = model.to(device)\n",
        "   criterion = nn.NLLLoss(ignore_index=-1)\n",
        "   optimizer = optim.Adam(model.parameters(), lr=LEARNING_RATE)\n",
        "   force_upto = NUM_BATCHES // 3\n",
        "   loss_arr = np.zeros(NUM_BATCHES+1)\n",
        "\n",
        "   for i in range(NUM_BATCHES):\n",
        "     loss_arr[i+1] = (loss_arr[i]*i + train(model, optimizer, criterion, BATCH_SIZE, device=device, force=i<force_upto))/(i+1)\n",
        "\n",
        "     if i % DISPLAY_STEP == DISPLAY_STEP-1:\n",
        "       clear_output(wait=True)\n",
        "       print('Iteration', i, 'Loss', loss_arr[i])\n",
        "       plt.figure(figsize=(12,6))\n",
        "       plt.plot(loss_arr[1:i])\n",
        "       plt.xlabel('Iterations')\n",
        "       plt.ylabel('Loss')\n",
        "       plt.show()\n",
        "\n",
        "\n",
        "   name = f'lr={LEARNING_RATE}-nb={NUM_BATCHES}-bs={BATCH_SIZE}-e={e}'\n",
        "   plt.figure(figsize=(12,6))\n",
        "   plt.plot(loss_arr)\n",
        "   plt.xlabel('Iterations')\n",
        "   plt.ylabel('Loss')\n",
        "   plt.savefig(f'plots/{name}.png')\n",
        "\n",
        "   torch.save(model, f'models/{name}.pt')\n",
        "   return loss_arr"
      ],
      "execution_count": 16,
      "outputs": []
    },
    {
      "cell_type": "markdown",
      "metadata": {
        "id": "c7s4-bcMSORk"
      },
      "source": [
        "Once we have made the model, we can experiment over many parameters to see which combination works best, and that I'll do here"
      ]
    },
    {
      "cell_type": "code",
      "metadata": {
        "colab": {
          "base_uri": "https://localhost:8080/",
          "height": 776
        },
        "id": "rK05TOIJ-3FQ",
        "outputId": "c86bb7a6-d97b-4fc7-95cb-65f5012eda2d"
      },
      "source": [
        "for learning_rate in [1e-3, 1e-2]:\n",
        "  enc_dec = Encoder_Decoder(len(hin_v2i), 256, len(eng_v2i))\n",
        "  loss = setup(enc_dec, LEARNING_RATE=learning_rate, NUM_BATCHES=1000, BATCH_SIZE=64, DISPLAY_STEP=10, device=DEVICE, e=256)"
      ],
      "execution_count": 17,
      "outputs": [
        {
          "output_type": "stream",
          "text": [
            "Iteration 999 Loss 0.08148881047964096\n"
          ],
          "name": "stdout"
        },
        {
          "output_type": "display_data",
          "data": {
            "image/png": "[encoded data removed]",
            "text/plain": [
              "<Figure size 864x432 with 1 Axes>"
            ]
          },
          "metadata": {
            "tags": [],
            "needs_background": "light"
          }
        },
        {
          "output_type": "display_data",
          "data": {
            "image/png": "[encoded data removed]",
            "text/plain": [
              "<Figure size 864x432 with 1 Axes>"
            ]
          },
          "metadata": {
            "tags": [],
            "needs_background": "light"
          }
        }
      ]
    },
    {
      "cell_type": "markdown",
      "metadata": {
        "id": "3zQJR643DPsV"
      },
      "source": [
        "# Testing and Inference"
      ]
    },
    {
      "cell_type": "code",
      "metadata": {
        "id": "b1oHx_yEWZmc"
      },
      "source": [
        "def test(model, word, device='cpu'):\n",
        "  model = model.eval().to(device)\n",
        "  outputs = get_output(model, word, 30, device)\n",
        "  eng_output = ''\n",
        "  for output in outputs:\n",
        "    values, indices = output.topk(1)\n",
        "    idx = indices.tolist()[0][0]\n",
        "    if idx == 0: # <PAD>\n",
        "      break\n",
        "    char = eng_i2v[idx]\n",
        "    eng_output += char\n",
        "  print(word, '->', eng_output)\n",
        "  return eng_output"
      ],
      "execution_count": 54,
      "outputs": []
    },
    {
      "cell_type": "code",
      "metadata": {
        "id": "DsSsqPWrEf-o"
      },
      "source": [
        "def accuracy(model, device='cpu'):\n",
        "  model = model.eval().to(device)\n",
        "  preds = []\n",
        "  acc = 0\n",
        "  for i in range(len(test_data)):\n",
        "    hindi, english = test_data[i]\n",
        "    eng_ = eng_encoding(english, eng_v2i, device)\n",
        "    outputs = get_output(model, hindi, eng_.shape[0], device)\n",
        "    predicted_correctly = 0\n",
        "    for i, output in enumerate(outputs):\n",
        "      values, indices = output.topk(1)\n",
        "      eng_pos = indices.tolist()[0]\n",
        "      if eng_pos[0] == eng_[i][0]:\n",
        "        predicted_correctly += 1\n",
        "\n",
        "    acc += predicted_correctly / eng_.shape[0]\n",
        "  acc /= len(test_data)\n",
        "  return acc"
      ],
      "execution_count": 37,
      "outputs": []
    },
    {
      "cell_type": "markdown",
      "metadata": {
        "id": "5WrMhRZWHaON"
      },
      "source": [
        "## Loading both models"
      ]
    },
    {
      "cell_type": "markdown",
      "metadata": {
        "id": "1HCqsCk_H8BL"
      },
      "source": [
        "### First model"
      ]
    },
    {
      "cell_type": "code",
      "metadata": {
        "colab": {
          "base_uri": "https://localhost:8080/"
        },
        "id": "m3KUP3DnHFsN",
        "outputId": "c7a1e598-dfd5-41c4-a809-de47631a7609"
      },
      "source": [
        "# batch size = 64, batches = 1000, learning rate = 1e-3, embedding size = 256\n",
        "m1 = torch.load('models/lr=0.001-nb=1000-bs=64-e=256.pt')\n",
        "print(\"Batch Size = 64, Batches = 1000, Learning rate = 1e-3, Embedding dimension = 256\")\n",
        "print(\"Accuracy:\", accuracy(m1)*100)"
      ],
      "execution_count": 45,
      "outputs": [
        {
          "output_type": "stream",
          "text": [
            "Batch Size = 64, Batches = 1000, Learning rate = 1e-3, Embedding dimension = 256\n",
            "Accuracy: 78.12733180650551\n"
          ],
          "name": "stdout"
        }
      ]
    },
    {
      "cell_type": "code",
      "metadata": {
        "colab": {
          "base_uri": "https://localhost:8080/"
        },
        "id": "E4bdsQHKHiwM",
        "outputId": "13e144e0-67d3-4ece-b3d2-f1fe811dcf37"
      },
      "source": [
        "print(\"Output on a random sample:\")\n",
        "hin, eng = test_data.get_random_sample()\n",
        "eng_out = test(m1, hin)\n",
        "print(\"Actual:\", eng, \"\\nPredicted:\", eng_out)"
      ],
      "execution_count": 73,
      "outputs": [
        {
          "output_type": "stream",
          "text": [
            "Output on a random sample:\n",
            "जलूँ -> jaluu\n",
            "Actual: jaloon \n",
            "Predicted: jaluu\n"
          ],
          "name": "stdout"
        }
      ]
    },
    {
      "cell_type": "markdown",
      "metadata": {
        "id": "qk0T1fQbL_EM"
      },
      "source": [
        "### Second Model"
      ]
    },
    {
      "cell_type": "code",
      "metadata": {
        "colab": {
          "base_uri": "https://localhost:8080/"
        },
        "id": "r2kgg_n2LVUo",
        "outputId": "69aa3172-5fa7-4192-e73c-38c9a06894da"
      },
      "source": [
        "# batch size = 64, batches = 1000, learning rate = 1e-2, embedding size = 256\n",
        "m2 = torch.load('models/lr=0.01-nb=1000-bs=64-e=256.pt')\n",
        "print(\"Batch Size = 64, Batches = 1000, Learning rate = 1e-2, Embedding dimension = 256\")\n",
        "print(\"Accuracy:\", accuracy(m2)*100)"
      ],
      "execution_count": 74,
      "outputs": [
        {
          "output_type": "stream",
          "text": [
            "Batch Size = 64, Batches = 1000, Learning rate = 1e-2, Embedding dimension = 256\n",
            "Accuracy: 76.40187387943642\n"
          ],
          "name": "stdout"
        }
      ]
    },
    {
      "cell_type": "code",
      "metadata": {
        "colab": {
          "base_uri": "https://localhost:8080/"
        },
        "id": "VAYeRSlhMFqi",
        "outputId": "d33d5f4d-af2e-4636-9ad5-4cf696cfc5d8"
      },
      "source": [
        "print(\"Output on a random sample:\")\n",
        "hin, eng = test_data.get_random_sample()\n",
        "eng_out = test(m2, hin)\n",
        "print(\"Actual:\", eng, \"\\nPredicted:\", eng_out)"
      ],
      "execution_count": 75,
      "outputs": [
        {
          "output_type": "stream",
          "text": [
            "Output on a random sample:\n",
            "शरारा -> sharaara\n",
            "Actual: sharara \n",
            "Predicted: sharaara\n"
          ],
          "name": "stdout"
        }
      ]
    },
    {
      "cell_type": "code",
      "metadata": {
        "id": "vCfKzg2oMneP"
      },
      "source": [
        ""
      ],
      "execution_count": null,
      "outputs": []
    }
  ]
}